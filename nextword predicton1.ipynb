{
 "cells": [
  {
   "cell_type": "code",
   "execution_count": 3,
   "id": "ee577239",
   "metadata": {},
   "outputs": [],
   "source": [
    "from numpy import array\n",
    "from keras.preprocessing.text import Tokenizer\n",
    "from keras.utils import to_categorical\n",
    "from keras.models import Sequential\n",
    "from keras.layers import Dense , LSTM , Embedding"
   ]
  },
  {
   "cell_type": "code",
   "execution_count": 37,
   "id": "d34e0527",
   "metadata": {},
   "outputs": [],
   "source": [
    "data = \"\"\"I'm a full stack developer and machine Learning enthusiasit who always try to learn new technologies implement  them with real world scenarios.\n",
    "I always shows interests on building realtime projects which might be useful for the people.\\nPiford Technologies is a leading Software Development Company\\n\n",
    "Piford Technologies provide trainings to working professionals and students\\n\n",
    "We are product based and service based company\\n\n",
    "we have one of our office in IT Park, Mohali\"\"\""
   ]
  },
  {
   "cell_type": "code",
   "execution_count": 38,
   "id": "aad96ef5",
   "metadata": {},
   "outputs": [
    {
     "data": {
      "text/plain": [
       "[10,\n",
       " 3,\n",
       " 11,\n",
       " 12,\n",
       " 13,\n",
       " 1,\n",
       " 14,\n",
       " 15,\n",
       " 16,\n",
       " 17,\n",
       " 4,\n",
       " 18,\n",
       " 5,\n",
       " 19,\n",
       " 20,\n",
       " 2,\n",
       " 21,\n",
       " 22,\n",
       " 23,\n",
       " 24,\n",
       " 25,\n",
       " 26,\n",
       " 27,\n",
       " 4,\n",
       " 28,\n",
       " 29,\n",
       " 30,\n",
       " 31,\n",
       " 32,\n",
       " 33,\n",
       " 34,\n",
       " 35,\n",
       " 36,\n",
       " 37,\n",
       " 38,\n",
       " 39,\n",
       " 40,\n",
       " 6,\n",
       " 2,\n",
       " 41,\n",
       " 3,\n",
       " 42,\n",
       " 43,\n",
       " 44,\n",
       " 7,\n",
       " 6,\n",
       " 2,\n",
       " 45,\n",
       " 46,\n",
       " 5,\n",
       " 47,\n",
       " 48,\n",
       " 1,\n",
       " 49,\n",
       " 8,\n",
       " 50,\n",
       " 51,\n",
       " 9,\n",
       " 1,\n",
       " 52,\n",
       " 9,\n",
       " 7,\n",
       " 8,\n",
       " 53,\n",
       " 54,\n",
       " 55,\n",
       " 56,\n",
       " 57,\n",
       " 58,\n",
       " 59,\n",
       " 60,\n",
       " 61]"
      ]
     },
     "execution_count": 38,
     "metadata": {},
     "output_type": "execute_result"
    }
   ],
   "source": [
    "tokenizer = Tokenizer()\n",
    "tokenizer.fit_on_texts([data])\n",
    "encoded_data = tokenizer.texts_to_sequences([data])[0]\n",
    "encoded_data"
   ]
  },
  {
   "cell_type": "code",
   "execution_count": 39,
   "id": "3dbbdb2f",
   "metadata": {},
   "outputs": [
    {
     "name": "stdout",
     "output_type": "stream",
     "text": [
      "62\n"
     ]
    }
   ],
   "source": [
    "vocab_size = len(tokenizer.word_index)+1\n",
    "print(vocab_size)"
   ]
  },
  {
   "cell_type": "code",
   "execution_count": 40,
   "id": "4c425418",
   "metadata": {},
   "outputs": [
    {
     "name": "stdout",
     "output_type": "stream",
     "text": [
      "Total Sequences [[10, 3], [3, 11], [11, 12], [12, 13], [13, 1], [1, 14], [14, 15], [15, 16], [16, 17], [17, 4], [4, 18], [18, 5], [5, 19], [19, 20], [20, 2], [2, 21], [21, 22], [22, 23], [23, 24], [24, 25], [25, 26], [26, 27], [27, 4], [4, 28], [28, 29], [29, 30], [30, 31], [31, 32], [32, 33], [33, 34], [34, 35], [35, 36], [36, 37], [37, 38], [38, 39], [39, 40], [40, 6], [6, 2], [2, 41], [41, 3], [3, 42], [42, 43], [43, 44], [44, 7], [7, 6], [6, 2], [2, 45], [45, 46], [46, 5], [5, 47], [47, 48], [48, 1], [1, 49], [49, 8], [8, 50], [50, 51], [51, 9], [9, 1], [1, 52], [52, 9], [9, 7]]\n"
     ]
    }
   ],
   "source": [
    "sequences = list()\n",
    "for i in range(1,vocab_size):\n",
    "    sequence = encoded_data[i-1:i+1]\n",
    "    sequences.append(sequence)\n",
    "print(\"Total Sequences\" , sequences)"
   ]
  },
  {
   "cell_type": "code",
   "execution_count": 41,
   "id": "3bf8cbd7",
   "metadata": {},
   "outputs": [
    {
     "data": {
      "text/plain": [
       "61"
      ]
     },
     "execution_count": 41,
     "metadata": {},
     "output_type": "execute_result"
    }
   ],
   "source": [
    "len(sequences)"
   ]
  },
  {
   "cell_type": "code",
   "execution_count": 42,
   "id": "468d1937",
   "metadata": {},
   "outputs": [
    {
     "name": "stdout",
     "output_type": "stream",
     "text": [
      "[10  3 11 12 13  1 14 15 16 17  4 18  5 19 20  2 21 22 23 24 25 26 27  4\n",
      " 28 29 30 31 32 33 34 35 36 37 38 39 40  6  2 41  3 42 43 44  7  6  2 45\n",
      " 46  5 47 48  1 49  8 50 51  9  1 52  9]\n",
      "[ 3 11 12 13  1 14 15 16 17  4 18  5 19 20  2 21 22 23 24 25 26 27  4 28\n",
      " 29 30 31 32 33 34 35 36 37 38 39 40  6  2 41  3 42 43 44  7  6  2 45 46\n",
      "  5 47 48  1 49  8 50 51  9  1 52  9  7]\n"
     ]
    }
   ],
   "source": [
    "sequences = array(sequences)\n",
    "x,y = sequences[:,0],sequences[:,1]\n",
    "print(x)\n",
    "print(y)"
   ]
  },
  {
   "cell_type": "code",
   "execution_count": 43,
   "id": "e060d3c9",
   "metadata": {},
   "outputs": [
    {
     "data": {
      "text/plain": [
       "array([[0., 0., 0., 1., 0., 0., 0., 0., 0., 0., 0., 0., 0., 0., 0., 0.,\n",
       "        0., 0., 0., 0., 0., 0., 0., 0., 0., 0., 0., 0., 0., 0., 0., 0.,\n",
       "        0., 0., 0., 0., 0., 0., 0., 0., 0., 0., 0., 0., 0., 0., 0., 0.,\n",
       "        0., 0., 0., 0., 0., 0., 0., 0., 0., 0., 0., 0., 0., 0.],\n",
       "       [0., 0., 0., 0., 0., 0., 0., 0., 0., 0., 0., 1., 0., 0., 0., 0.,\n",
       "        0., 0., 0., 0., 0., 0., 0., 0., 0., 0., 0., 0., 0., 0., 0., 0.,\n",
       "        0., 0., 0., 0., 0., 0., 0., 0., 0., 0., 0., 0., 0., 0., 0., 0.,\n",
       "        0., 0., 0., 0., 0., 0., 0., 0., 0., 0., 0., 0., 0., 0.],\n",
       "       [0., 0., 0., 0., 0., 0., 0., 0., 0., 0., 0., 0., 1., 0., 0., 0.,\n",
       "        0., 0., 0., 0., 0., 0., 0., 0., 0., 0., 0., 0., 0., 0., 0., 0.,\n",
       "        0., 0., 0., 0., 0., 0., 0., 0., 0., 0., 0., 0., 0., 0., 0., 0.,\n",
       "        0., 0., 0., 0., 0., 0., 0., 0., 0., 0., 0., 0., 0., 0.],\n",
       "       [0., 0., 0., 0., 0., 0., 0., 0., 0., 0., 0., 0., 0., 1., 0., 0.,\n",
       "        0., 0., 0., 0., 0., 0., 0., 0., 0., 0., 0., 0., 0., 0., 0., 0.,\n",
       "        0., 0., 0., 0., 0., 0., 0., 0., 0., 0., 0., 0., 0., 0., 0., 0.,\n",
       "        0., 0., 0., 0., 0., 0., 0., 0., 0., 0., 0., 0., 0., 0.],\n",
       "       [0., 1., 0., 0., 0., 0., 0., 0., 0., 0., 0., 0., 0., 0., 0., 0.,\n",
       "        0., 0., 0., 0., 0., 0., 0., 0., 0., 0., 0., 0., 0., 0., 0., 0.,\n",
       "        0., 0., 0., 0., 0., 0., 0., 0., 0., 0., 0., 0., 0., 0., 0., 0.,\n",
       "        0., 0., 0., 0., 0., 0., 0., 0., 0., 0., 0., 0., 0., 0.]],\n",
       "      dtype=float32)"
      ]
     },
     "execution_count": 43,
     "metadata": {},
     "output_type": "execute_result"
    }
   ],
   "source": [
    "y = to_categorical(y,num_classes = vocab_size)\n",
    "y[:5]"
   ]
  },
  {
   "cell_type": "code",
   "execution_count": 44,
   "id": "70a77e2b",
   "metadata": {},
   "outputs": [
    {
     "name": "stdout",
     "output_type": "stream",
     "text": [
      "Model: \"sequential_1\"\n",
      "_________________________________________________________________\n",
      " Layer (type)                Output Shape              Param #   \n",
      "=================================================================\n",
      " embedding_1 (Embedding)     (None, 1, 12)             744       \n",
      "                                                                 \n",
      " lstm_1 (LSTM)               (None, 60)                17520     \n",
      "                                                                 \n",
      " dense_1 (Dense)             (None, 62)                3782      \n",
      "                                                                 \n",
      "=================================================================\n",
      "Total params: 22046 (86.12 KB)\n",
      "Trainable params: 22046 (86.12 KB)\n",
      "Non-trainable params: 0 (0.00 Byte)\n",
      "_________________________________________________________________\n",
      "None\n"
     ]
    }
   ],
   "source": [
    "model = Sequential()\n",
    "model.add(Embedding(vocab_size, 12 , input_length=1))\n",
    "model.add(LSTM(60))\n",
    "model.add(Dense(vocab_size , activation = 'softmax'))\n",
    "print(model.summary())"
   ]
  },
  {
   "cell_type": "code",
   "execution_count": 45,
   "id": "508dd4c2",
   "metadata": {},
   "outputs": [],
   "source": [
    "model.compile(loss = 'categorical_crossentropy' , optimizer = 'adam' , metrics = ['accuracy'])\n"
   ]
  },
  {
   "cell_type": "code",
   "execution_count": 48,
   "id": "4b95dd90",
   "metadata": {},
   "outputs": [
    {
     "name": "stdout",
     "output_type": "stream",
     "text": [
      "Epoch 1/200\n",
      "2/2 [==============================] - 0s 19ms/step - loss: 0.2391 - accuracy: 0.8689\n",
      "Epoch 2/200\n",
      "2/2 [==============================] - 0s 19ms/step - loss: 0.2387 - accuracy: 0.8689\n",
      "Epoch 3/200\n",
      "2/2 [==============================] - 0s 17ms/step - loss: 0.2384 - accuracy: 0.8689\n",
      "Epoch 4/200\n",
      "2/2 [==============================] - 0s 15ms/step - loss: 0.2382 - accuracy: 0.8689\n",
      "Epoch 5/200\n",
      "2/2 [==============================] - 0s 23ms/step - loss: 0.2380 - accuracy: 0.8197\n",
      "Epoch 6/200\n",
      "2/2 [==============================] - 0s 18ms/step - loss: 0.2377 - accuracy: 0.8361\n",
      "Epoch 7/200\n",
      "2/2 [==============================] - 0s 23ms/step - loss: 0.2373 - accuracy: 0.8361\n",
      "Epoch 8/200\n",
      "2/2 [==============================] - 0s 14ms/step - loss: 0.2370 - accuracy: 0.8689\n",
      "Epoch 9/200\n",
      "2/2 [==============================] - 0s 39ms/step - loss: 0.2369 - accuracy: 0.8525\n",
      "Epoch 10/200\n",
      "2/2 [==============================] - 0s 19ms/step - loss: 0.2366 - accuracy: 0.8197\n",
      "Epoch 11/200\n",
      "2/2 [==============================] - 0s 22ms/step - loss: 0.2365 - accuracy: 0.8197\n",
      "Epoch 12/200\n",
      "2/2 [==============================] - 0s 35ms/step - loss: 0.2358 - accuracy: 0.8525\n",
      "Epoch 13/200\n",
      "2/2 [==============================] - 0s 18ms/step - loss: 0.2356 - accuracy: 0.8689\n",
      "Epoch 14/200\n",
      "2/2 [==============================] - 0s 27ms/step - loss: 0.2355 - accuracy: 0.8525\n",
      "Epoch 15/200\n",
      "2/2 [==============================] - 0s 16ms/step - loss: 0.2353 - accuracy: 0.8525\n",
      "Epoch 16/200\n",
      "2/2 [==============================] - 0s 20ms/step - loss: 0.2348 - accuracy: 0.8689\n",
      "Epoch 17/200\n",
      "2/2 [==============================] - 0s 14ms/step - loss: 0.2347 - accuracy: 0.8689\n",
      "Epoch 18/200\n",
      "2/2 [==============================] - 0s 37ms/step - loss: 0.2343 - accuracy: 0.8525\n",
      "Epoch 19/200\n",
      "2/2 [==============================] - 0s 15ms/step - loss: 0.2343 - accuracy: 0.8525\n",
      "Epoch 20/200\n",
      "2/2 [==============================] - 0s 19ms/step - loss: 0.2338 - accuracy: 0.8689\n",
      "Epoch 21/200\n",
      "2/2 [==============================] - 0s 22ms/step - loss: 0.2336 - accuracy: 0.8689\n",
      "Epoch 22/200\n",
      "2/2 [==============================] - 0s 25ms/step - loss: 0.2335 - accuracy: 0.8525\n",
      "Epoch 23/200\n",
      "2/2 [==============================] - 0s 29ms/step - loss: 0.2334 - accuracy: 0.8525\n",
      "Epoch 24/200\n",
      "2/2 [==============================] - 0s 14ms/step - loss: 0.2328 - accuracy: 0.8689\n",
      "Epoch 25/200\n",
      "2/2 [==============================] - 0s 47ms/step - loss: 0.2328 - accuracy: 0.8689\n",
      "Epoch 26/200\n",
      "2/2 [==============================] - 0s 27ms/step - loss: 0.2324 - accuracy: 0.8525\n",
      "Epoch 27/200\n",
      "2/2 [==============================] - 0s 30ms/step - loss: 0.2323 - accuracy: 0.8689\n",
      "Epoch 28/200\n",
      "2/2 [==============================] - 0s 23ms/step - loss: 0.2320 - accuracy: 0.8361\n",
      "Epoch 29/200\n",
      "2/2 [==============================] - 0s 15ms/step - loss: 0.2319 - accuracy: 0.8689\n",
      "Epoch 30/200\n",
      "2/2 [==============================] - 0s 13ms/step - loss: 0.2315 - accuracy: 0.8361\n",
      "Epoch 31/200\n",
      "2/2 [==============================] - 0s 16ms/step - loss: 0.2316 - accuracy: 0.8525\n",
      "Epoch 32/200\n",
      "2/2 [==============================] - 0s 23ms/step - loss: 0.2313 - accuracy: 0.8689\n",
      "Epoch 33/200\n",
      "2/2 [==============================] - 0s 20ms/step - loss: 0.2310 - accuracy: 0.8525\n",
      "Epoch 34/200\n",
      "2/2 [==============================] - 0s 13ms/step - loss: 0.2307 - accuracy: 0.8689\n",
      "Epoch 35/200\n",
      "2/2 [==============================] - 0s 22ms/step - loss: 0.2307 - accuracy: 0.8525\n",
      "Epoch 36/200\n",
      "2/2 [==============================] - 0s 27ms/step - loss: 0.2304 - accuracy: 0.8689\n",
      "Epoch 37/200\n",
      "2/2 [==============================] - 0s 15ms/step - loss: 0.2300 - accuracy: 0.8689\n",
      "Epoch 38/200\n",
      "2/2 [==============================] - 0s 15ms/step - loss: 0.2298 - accuracy: 0.8525\n",
      "Epoch 39/200\n",
      "2/2 [==============================] - 0s 18ms/step - loss: 0.2295 - accuracy: 0.8689\n",
      "Epoch 40/200\n",
      "2/2 [==============================] - 0s 16ms/step - loss: 0.2294 - accuracy: 0.8689\n",
      "Epoch 41/200\n",
      "2/2 [==============================] - 0s 24ms/step - loss: 0.2292 - accuracy: 0.8525\n",
      "Epoch 42/200\n",
      "2/2 [==============================] - 0s 14ms/step - loss: 0.2289 - accuracy: 0.8689\n",
      "Epoch 43/200\n",
      "2/2 [==============================] - 0s 22ms/step - loss: 0.2288 - accuracy: 0.8689\n",
      "Epoch 44/200\n",
      "2/2 [==============================] - 0s 17ms/step - loss: 0.2287 - accuracy: 0.8689\n",
      "Epoch 45/200\n",
      "2/2 [==============================] - 0s 17ms/step - loss: 0.2285 - accuracy: 0.8689\n",
      "Epoch 46/200\n",
      "2/2 [==============================] - 0s 21ms/step - loss: 0.2284 - accuracy: 0.8689\n",
      "Epoch 47/200\n",
      "2/2 [==============================] - 0s 16ms/step - loss: 0.2281 - accuracy: 0.8689\n",
      "Epoch 48/200\n",
      "2/2 [==============================] - 0s 29ms/step - loss: 0.2280 - accuracy: 0.8689\n",
      "Epoch 49/200\n",
      "2/2 [==============================] - 0s 16ms/step - loss: 0.2276 - accuracy: 0.8689\n",
      "Epoch 50/200\n",
      "2/2 [==============================] - 0s 22ms/step - loss: 0.2277 - accuracy: 0.8689\n",
      "Epoch 51/200\n",
      "2/2 [==============================] - 0s 16ms/step - loss: 0.2276 - accuracy: 0.8689\n",
      "Epoch 52/200\n",
      "2/2 [==============================] - 0s 16ms/step - loss: 0.2274 - accuracy: 0.8689\n",
      "Epoch 53/200\n",
      "2/2 [==============================] - 0s 20ms/step - loss: 0.2270 - accuracy: 0.8689\n",
      "Epoch 54/200\n",
      "2/2 [==============================] - 0s 20ms/step - loss: 0.2267 - accuracy: 0.8689\n",
      "Epoch 55/200\n",
      "2/2 [==============================] - 0s 17ms/step - loss: 0.2266 - accuracy: 0.8689\n",
      "Epoch 56/200\n",
      "2/2 [==============================] - 0s 25ms/step - loss: 0.2264 - accuracy: 0.8689\n",
      "Epoch 57/200\n",
      "2/2 [==============================] - 0s 16ms/step - loss: 0.2264 - accuracy: 0.8689\n",
      "Epoch 58/200\n",
      "2/2 [==============================] - 0s 16ms/step - loss: 0.2260 - accuracy: 0.8689\n",
      "Epoch 59/200\n",
      "2/2 [==============================] - 0s 22ms/step - loss: 0.2261 - accuracy: 0.8525\n",
      "Epoch 60/200\n",
      "2/2 [==============================] - 0s 24ms/step - loss: 0.2258 - accuracy: 0.8689\n",
      "Epoch 61/200\n",
      "2/2 [==============================] - 0s 14ms/step - loss: 0.2257 - accuracy: 0.8689\n",
      "Epoch 62/200\n",
      "2/2 [==============================] - 0s 16ms/step - loss: 0.2255 - accuracy: 0.8525\n",
      "Epoch 63/200\n",
      "2/2 [==============================] - 0s 16ms/step - loss: 0.2253 - accuracy: 0.8689\n",
      "Epoch 64/200\n",
      "2/2 [==============================] - 0s 14ms/step - loss: 0.2253 - accuracy: 0.8525\n",
      "Epoch 65/200\n",
      "2/2 [==============================] - 0s 14ms/step - loss: 0.2252 - accuracy: 0.8361\n",
      "Epoch 66/200\n",
      "2/2 [==============================] - 0s 15ms/step - loss: 0.2251 - accuracy: 0.8689\n",
      "Epoch 67/200\n",
      "2/2 [==============================] - 0s 17ms/step - loss: 0.2248 - accuracy: 0.8689\n",
      "Epoch 68/200\n",
      "2/2 [==============================] - 0s 18ms/step - loss: 0.2246 - accuracy: 0.8525\n",
      "Epoch 69/200\n",
      "2/2 [==============================] - 0s 15ms/step - loss: 0.2247 - accuracy: 0.8525\n",
      "Epoch 70/200\n",
      "2/2 [==============================] - 0s 18ms/step - loss: 0.2244 - accuracy: 0.8689\n",
      "Epoch 71/200\n",
      "2/2 [==============================] - 0s 23ms/step - loss: 0.2242 - accuracy: 0.8525\n",
      "Epoch 72/200\n",
      "2/2 [==============================] - 0s 17ms/step - loss: 0.2241 - accuracy: 0.8689\n",
      "Epoch 73/200\n",
      "2/2 [==============================] - 0s 20ms/step - loss: 0.2240 - accuracy: 0.8525\n",
      "Epoch 74/200\n",
      "2/2 [==============================] - 0s 19ms/step - loss: 0.2236 - accuracy: 0.8689\n",
      "Epoch 75/200\n",
      "2/2 [==============================] - 0s 16ms/step - loss: 0.2237 - accuracy: 0.8689\n",
      "Epoch 76/200\n",
      "2/2 [==============================] - 0s 18ms/step - loss: 0.2235 - accuracy: 0.8525\n",
      "Epoch 77/200\n",
      "2/2 [==============================] - 0s 15ms/step - loss: 0.2232 - accuracy: 0.8689\n",
      "Epoch 78/200\n",
      "2/2 [==============================] - 0s 16ms/step - loss: 0.2232 - accuracy: 0.8689\n",
      "Epoch 79/200\n",
      "2/2 [==============================] - 0s 19ms/step - loss: 0.2230 - accuracy: 0.8689\n",
      "Epoch 80/200\n",
      "2/2 [==============================] - 0s 16ms/step - loss: 0.2227 - accuracy: 0.8525\n",
      "Epoch 81/200\n",
      "2/2 [==============================] - 0s 17ms/step - loss: 0.2227 - accuracy: 0.8689\n",
      "Epoch 82/200\n",
      "2/2 [==============================] - 0s 18ms/step - loss: 0.2227 - accuracy: 0.8525\n",
      "Epoch 83/200\n"
     ]
    },
    {
     "name": "stdout",
     "output_type": "stream",
     "text": [
      "2/2 [==============================] - 0s 27ms/step - loss: 0.2226 - accuracy: 0.8525\n",
      "Epoch 84/200\n",
      "2/2 [==============================] - 0s 19ms/step - loss: 0.2226 - accuracy: 0.8361\n",
      "Epoch 85/200\n",
      "2/2 [==============================] - 0s 18ms/step - loss: 0.2222 - accuracy: 0.8525\n",
      "Epoch 86/200\n",
      "2/2 [==============================] - 0s 18ms/step - loss: 0.2223 - accuracy: 0.8689\n",
      "Epoch 87/200\n",
      "2/2 [==============================] - 0s 15ms/step - loss: 0.2223 - accuracy: 0.8361\n",
      "Epoch 88/200\n",
      "2/2 [==============================] - 0s 16ms/step - loss: 0.2220 - accuracy: 0.8361\n",
      "Epoch 89/200\n",
      "2/2 [==============================] - 0s 14ms/step - loss: 0.2217 - accuracy: 0.8525\n",
      "Epoch 90/200\n",
      "2/2 [==============================] - 0s 26ms/step - loss: 0.2214 - accuracy: 0.8689\n",
      "Epoch 91/200\n",
      "2/2 [==============================] - 0s 14ms/step - loss: 0.2217 - accuracy: 0.8689\n",
      "Epoch 92/200\n",
      "2/2 [==============================] - 0s 18ms/step - loss: 0.2216 - accuracy: 0.8361\n",
      "Epoch 93/200\n",
      "2/2 [==============================] - 0s 16ms/step - loss: 0.2212 - accuracy: 0.8689\n",
      "Epoch 94/200\n",
      "2/2 [==============================] - 0s 20ms/step - loss: 0.2210 - accuracy: 0.8525\n",
      "Epoch 95/200\n",
      "2/2 [==============================] - 0s 17ms/step - loss: 0.2211 - accuracy: 0.8689\n",
      "Epoch 96/200\n",
      "2/2 [==============================] - 0s 14ms/step - loss: 0.2209 - accuracy: 0.8689\n",
      "Epoch 97/200\n",
      "2/2 [==============================] - 0s 14ms/step - loss: 0.2207 - accuracy: 0.8689\n",
      "Epoch 98/200\n",
      "2/2 [==============================] - 0s 13ms/step - loss: 0.2207 - accuracy: 0.8525\n",
      "Epoch 99/200\n",
      "2/2 [==============================] - 0s 24ms/step - loss: 0.2205 - accuracy: 0.8689\n",
      "Epoch 100/200\n",
      "2/2 [==============================] - 0s 20ms/step - loss: 0.2206 - accuracy: 0.8525\n",
      "Epoch 101/200\n",
      "2/2 [==============================] - 0s 24ms/step - loss: 0.2204 - accuracy: 0.8525\n",
      "Epoch 102/200\n",
      "2/2 [==============================] - 0s 33ms/step - loss: 0.2203 - accuracy: 0.8525\n",
      "Epoch 103/200\n",
      "2/2 [==============================] - 0s 33ms/step - loss: 0.2201 - accuracy: 0.8525\n",
      "Epoch 104/200\n",
      "2/2 [==============================] - 0s 19ms/step - loss: 0.2199 - accuracy: 0.8361\n",
      "Epoch 105/200\n",
      "2/2 [==============================] - 0s 20ms/step - loss: 0.2198 - accuracy: 0.8525\n",
      "Epoch 106/200\n",
      "2/2 [==============================] - 0s 15ms/step - loss: 0.2196 - accuracy: 0.8689\n",
      "Epoch 107/200\n",
      "2/2 [==============================] - 0s 28ms/step - loss: 0.2197 - accuracy: 0.8689\n",
      "Epoch 108/200\n",
      "2/2 [==============================] - 0s 16ms/step - loss: 0.2196 - accuracy: 0.8525\n",
      "Epoch 109/200\n",
      "2/2 [==============================] - 0s 23ms/step - loss: 0.2195 - accuracy: 0.8525\n",
      "Epoch 110/200\n",
      "2/2 [==============================] - 0s 17ms/step - loss: 0.2194 - accuracy: 0.8689\n",
      "Epoch 111/200\n",
      "2/2 [==============================] - 0s 18ms/step - loss: 0.2193 - accuracy: 0.8689\n",
      "Epoch 112/200\n",
      "2/2 [==============================] - 0s 18ms/step - loss: 0.2191 - accuracy: 0.8689\n",
      "Epoch 113/200\n",
      "2/2 [==============================] - 0s 17ms/step - loss: 0.2190 - accuracy: 0.8689\n",
      "Epoch 114/200\n",
      "2/2 [==============================] - 0s 17ms/step - loss: 0.2188 - accuracy: 0.8689\n",
      "Epoch 115/200\n",
      "2/2 [==============================] - 0s 13ms/step - loss: 0.2187 - accuracy: 0.8689\n",
      "Epoch 116/200\n",
      "2/2 [==============================] - 0s 16ms/step - loss: 0.2188 - accuracy: 0.8689\n",
      "Epoch 117/200\n",
      "2/2 [==============================] - 0s 27ms/step - loss: 0.2187 - accuracy: 0.8525\n",
      "Epoch 118/200\n",
      "2/2 [==============================] - 0s 24ms/step - loss: 0.2185 - accuracy: 0.8525\n",
      "Epoch 119/200\n",
      "2/2 [==============================] - 0s 17ms/step - loss: 0.2185 - accuracy: 0.8689\n",
      "Epoch 120/200\n",
      "2/2 [==============================] - 0s 17ms/step - loss: 0.2184 - accuracy: 0.8689\n",
      "Epoch 121/200\n",
      "2/2 [==============================] - 0s 17ms/step - loss: 0.2181 - accuracy: 0.8525\n",
      "Epoch 122/200\n",
      "2/2 [==============================] - 0s 17ms/step - loss: 0.2183 - accuracy: 0.8525\n",
      "Epoch 123/200\n",
      "2/2 [==============================] - 0s 15ms/step - loss: 0.2180 - accuracy: 0.8525\n",
      "Epoch 124/200\n",
      "2/2 [==============================] - 0s 16ms/step - loss: 0.2180 - accuracy: 0.8361\n",
      "Epoch 125/200\n",
      "2/2 [==============================] - 0s 16ms/step - loss: 0.2178 - accuracy: 0.8689\n",
      "Epoch 126/200\n",
      "2/2 [==============================] - 0s 17ms/step - loss: 0.2177 - accuracy: 0.8525\n",
      "Epoch 127/200\n",
      "2/2 [==============================] - 0s 21ms/step - loss: 0.2178 - accuracy: 0.8689\n",
      "Epoch 128/200\n",
      "2/2 [==============================] - 0s 19ms/step - loss: 0.2175 - accuracy: 0.8689\n",
      "Epoch 129/200\n",
      "2/2 [==============================] - 0s 17ms/step - loss: 0.2176 - accuracy: 0.8525\n",
      "Epoch 130/200\n",
      "2/2 [==============================] - 0s 16ms/step - loss: 0.2176 - accuracy: 0.8689\n",
      "Epoch 131/200\n",
      "2/2 [==============================] - 0s 23ms/step - loss: 0.2172 - accuracy: 0.8689\n",
      "Epoch 132/200\n",
      "2/2 [==============================] - 0s 17ms/step - loss: 0.2173 - accuracy: 0.8689\n",
      "Epoch 133/200\n",
      "2/2 [==============================] - 0s 19ms/step - loss: 0.2170 - accuracy: 0.8525\n",
      "Epoch 134/200\n",
      "2/2 [==============================] - 0s 13ms/step - loss: 0.2171 - accuracy: 0.8361\n",
      "Epoch 135/200\n",
      "2/2 [==============================] - 0s 15ms/step - loss: 0.2168 - accuracy: 0.8525\n",
      "Epoch 136/200\n",
      "2/2 [==============================] - 0s 14ms/step - loss: 0.2171 - accuracy: 0.8689\n",
      "Epoch 137/200\n",
      "2/2 [==============================] - 0s 21ms/step - loss: 0.2168 - accuracy: 0.8689\n",
      "Epoch 138/200\n",
      "2/2 [==============================] - 0s 22ms/step - loss: 0.2167 - accuracy: 0.8361\n",
      "Epoch 139/200\n",
      "2/2 [==============================] - 0s 20ms/step - loss: 0.2166 - accuracy: 0.8689\n",
      "Epoch 140/200\n",
      "2/2 [==============================] - 0s 18ms/step - loss: 0.2167 - accuracy: 0.8689\n",
      "Epoch 141/200\n",
      "2/2 [==============================] - 0s 24ms/step - loss: 0.2165 - accuracy: 0.8525\n",
      "Epoch 142/200\n",
      "2/2 [==============================] - 0s 25ms/step - loss: 0.2163 - accuracy: 0.8525\n",
      "Epoch 143/200\n",
      "2/2 [==============================] - 0s 27ms/step - loss: 0.2162 - accuracy: 0.8525\n",
      "Epoch 144/200\n",
      "2/2 [==============================] - 0s 21ms/step - loss: 0.2162 - accuracy: 0.8689\n",
      "Epoch 145/200\n",
      "2/2 [==============================] - 0s 20ms/step - loss: 0.2162 - accuracy: 0.8525\n",
      "Epoch 146/200\n",
      "2/2 [==============================] - 0s 22ms/step - loss: 0.2164 - accuracy: 0.8361\n",
      "Epoch 147/200\n",
      "2/2 [==============================] - 0s 17ms/step - loss: 0.2159 - accuracy: 0.8689\n",
      "Epoch 148/200\n",
      "2/2 [==============================] - 0s 21ms/step - loss: 0.2158 - accuracy: 0.8689\n",
      "Epoch 149/200\n",
      "2/2 [==============================] - 0s 18ms/step - loss: 0.2159 - accuracy: 0.8689\n",
      "Epoch 150/200\n",
      "2/2 [==============================] - 0s 19ms/step - loss: 0.2156 - accuracy: 0.8361\n",
      "Epoch 151/200\n",
      "2/2 [==============================] - 0s 16ms/step - loss: 0.2156 - accuracy: 0.8689\n",
      "Epoch 152/200\n",
      "2/2 [==============================] - 0s 24ms/step - loss: 0.2159 - accuracy: 0.8361\n",
      "Epoch 153/200\n",
      "2/2 [==============================] - 0s 14ms/step - loss: 0.2156 - accuracy: 0.8689\n",
      "Epoch 154/200\n",
      "2/2 [==============================] - 0s 16ms/step - loss: 0.2153 - accuracy: 0.8689\n",
      "Epoch 155/200\n",
      "2/2 [==============================] - 0s 14ms/step - loss: 0.2153 - accuracy: 0.8689\n",
      "Epoch 156/200\n",
      "2/2 [==============================] - 0s 16ms/step - loss: 0.2153 - accuracy: 0.8689\n",
      "Epoch 157/200\n",
      "2/2 [==============================] - 0s 25ms/step - loss: 0.2152 - accuracy: 0.8689\n",
      "Epoch 158/200\n",
      "2/2 [==============================] - 0s 29ms/step - loss: 0.2152 - accuracy: 0.8361\n",
      "Epoch 159/200\n",
      "2/2 [==============================] - 0s 26ms/step - loss: 0.2148 - accuracy: 0.8689\n",
      "Epoch 160/200\n",
      "2/2 [==============================] - 0s 32ms/step - loss: 0.2149 - accuracy: 0.8689\n",
      "Epoch 161/200\n",
      "2/2 [==============================] - 0s 25ms/step - loss: 0.2151 - accuracy: 0.8689\n",
      "Epoch 162/200\n",
      "2/2 [==============================] - 0s 35ms/step - loss: 0.2148 - accuracy: 0.8689\n",
      "Epoch 163/200\n",
      "2/2 [==============================] - 0s 26ms/step - loss: 0.2148 - accuracy: 0.8689\n",
      "Epoch 164/200\n",
      "2/2 [==============================] - 0s 26ms/step - loss: 0.2148 - accuracy: 0.8525\n",
      "Epoch 165/200\n"
     ]
    },
    {
     "name": "stdout",
     "output_type": "stream",
     "text": [
      "2/2 [==============================] - 0s 17ms/step - loss: 0.2146 - accuracy: 0.8525\n",
      "Epoch 166/200\n",
      "2/2 [==============================] - 0s 20ms/step - loss: 0.2148 - accuracy: 0.8361\n",
      "Epoch 167/200\n",
      "2/2 [==============================] - 0s 12ms/step - loss: 0.2147 - accuracy: 0.8525\n",
      "Epoch 168/200\n",
      "2/2 [==============================] - 0s 12ms/step - loss: 0.2144 - accuracy: 0.8689\n",
      "Epoch 169/200\n",
      "2/2 [==============================] - 0s 13ms/step - loss: 0.2145 - accuracy: 0.8361\n",
      "Epoch 170/200\n",
      "2/2 [==============================] - 0s 14ms/step - loss: 0.2142 - accuracy: 0.8689\n",
      "Epoch 171/200\n",
      "2/2 [==============================] - 0s 17ms/step - loss: 0.2142 - accuracy: 0.8525\n",
      "Epoch 172/200\n",
      "2/2 [==============================] - 0s 14ms/step - loss: 0.2142 - accuracy: 0.8525\n",
      "Epoch 173/200\n",
      "2/2 [==============================] - 0s 12ms/step - loss: 0.2141 - accuracy: 0.8689\n",
      "Epoch 174/200\n",
      "2/2 [==============================] - 0s 16ms/step - loss: 0.2139 - accuracy: 0.8689\n",
      "Epoch 175/200\n",
      "2/2 [==============================] - 0s 33ms/step - loss: 0.2139 - accuracy: 0.8689\n",
      "Epoch 176/200\n",
      "2/2 [==============================] - 0s 19ms/step - loss: 0.2138 - accuracy: 0.8525\n",
      "Epoch 177/200\n",
      "2/2 [==============================] - 0s 30ms/step - loss: 0.2137 - accuracy: 0.8525\n",
      "Epoch 178/200\n",
      "2/2 [==============================] - 0s 23ms/step - loss: 0.2139 - accuracy: 0.8689\n",
      "Epoch 179/200\n",
      "2/2 [==============================] - 0s 19ms/step - loss: 0.2138 - accuracy: 0.8689\n",
      "Epoch 180/200\n",
      "2/2 [==============================] - 0s 21ms/step - loss: 0.2137 - accuracy: 0.8689\n",
      "Epoch 181/200\n",
      "2/2 [==============================] - 0s 24ms/step - loss: 0.2136 - accuracy: 0.8689\n",
      "Epoch 182/200\n",
      "2/2 [==============================] - 0s 19ms/step - loss: 0.2136 - accuracy: 0.8689\n",
      "Epoch 183/200\n",
      "2/2 [==============================] - 0s 18ms/step - loss: 0.2135 - accuracy: 0.8689\n",
      "Epoch 184/200\n",
      "2/2 [==============================] - 0s 18ms/step - loss: 0.2137 - accuracy: 0.8525\n",
      "Epoch 185/200\n",
      "2/2 [==============================] - 0s 18ms/step - loss: 0.2132 - accuracy: 0.8689\n",
      "Epoch 186/200\n",
      "2/2 [==============================] - 0s 17ms/step - loss: 0.2132 - accuracy: 0.8689\n",
      "Epoch 187/200\n",
      "2/2 [==============================] - 0s 18ms/step - loss: 0.2133 - accuracy: 0.8689\n",
      "Epoch 188/200\n",
      "2/2 [==============================] - 0s 15ms/step - loss: 0.2132 - accuracy: 0.8689\n",
      "Epoch 189/200\n",
      "2/2 [==============================] - 0s 20ms/step - loss: 0.2131 - accuracy: 0.8689\n",
      "Epoch 190/200\n",
      "2/2 [==============================] - 0s 17ms/step - loss: 0.2131 - accuracy: 0.8525\n",
      "Epoch 191/200\n",
      "2/2 [==============================] - 0s 21ms/step - loss: 0.2131 - accuracy: 0.8361\n",
      "Epoch 192/200\n",
      "2/2 [==============================] - 0s 34ms/step - loss: 0.2130 - accuracy: 0.8689\n",
      "Epoch 193/200\n",
      "2/2 [==============================] - 0s 46ms/step - loss: 0.2127 - accuracy: 0.8689\n",
      "Epoch 194/200\n",
      "2/2 [==============================] - 0s 36ms/step - loss: 0.2130 - accuracy: 0.8525\n",
      "Epoch 195/200\n",
      "2/2 [==============================] - 0s 22ms/step - loss: 0.2127 - accuracy: 0.8689\n",
      "Epoch 196/200\n",
      "2/2 [==============================] - 0s 25ms/step - loss: 0.2129 - accuracy: 0.8689\n",
      "Epoch 197/200\n",
      "2/2 [==============================] - 0s 18ms/step - loss: 0.2126 - accuracy: 0.8525\n",
      "Epoch 198/200\n",
      "2/2 [==============================] - 0s 17ms/step - loss: 0.2128 - accuracy: 0.8361\n",
      "Epoch 199/200\n",
      "2/2 [==============================] - 0s 15ms/step - loss: 0.2124 - accuracy: 0.8525\n",
      "Epoch 200/200\n",
      "2/2 [==============================] - 0s 21ms/step - loss: 0.2125 - accuracy: 0.8361\n"
     ]
    },
    {
     "data": {
      "text/plain": [
       "<keras.src.callbacks.History at 0x278b9ace820>"
      ]
     },
     "execution_count": 48,
     "metadata": {},
     "output_type": "execute_result"
    }
   ],
   "source": [
    "model.fit(x,y, epochs = 200)"
   ]
  },
  {
   "cell_type": "code",
   "execution_count": 68,
   "id": "168b72cd",
   "metadata": {},
   "outputs": [],
   "source": [
    "import numpy as np\n",
    "\n",
    "def generate_seq(model, tokenizer, enter_text, n_pred):  \n",
    "    in_text, result = enter_text, enter_text\n",
    "    # generate a fixed number of words\n",
    "    for _ in range(n_pred):\n",
    "        \n",
    "        # encode the text as integer\n",
    "        encoded = tokenizer.texts_to_sequences([in_text])[0]\n",
    "        encoded = np.array(encoded)  # Use NumPy array instead of array\n",
    "        print(encoded)\n",
    "        \n",
    "        # predict a word in the vocabulary\n",
    "        yhat = model.predict(encoded.reshape(1, -1))  # Reshape to make it a 2D array\n",
    "        print(np.argmax(yhat))\n",
    "        \n",
    "        # map predicted word index to word\n",
    "        out_word = ''\n",
    "        for word, index in tokenizer.word_index.items():\n",
    "            if index == np.argmax(yhat):  # Use np.argmax to get the index of the predicted word\n",
    "                out_word = word\n",
    "                break\n",
    "        \n",
    "        # append to input\n",
    "        in_text, result = out_word, result + ' ' + out_word\n",
    "        \n",
    "    return result\n"
   ]
  },
  {
   "cell_type": "code",
   "execution_count": 69,
   "id": "df6ed788",
   "metadata": {},
   "outputs": [
    {
     "name": "stdout",
     "output_type": "stream",
     "text": [
      "[14]\n",
      "1/1 [==============================] - 0s 35ms/step\n",
      "15\n",
      "[15]\n",
      "1/1 [==============================] - 0s 39ms/step\n",
      "16\n",
      "Machine learning enthusiasit\n"
     ]
    }
   ],
   "source": [
    "print(generate_seq(model , tokenizer , 'Machine' , 2))"
   ]
  },
  {
   "cell_type": "code",
   "execution_count": null,
   "id": "74fa3d9b",
   "metadata": {},
   "outputs": [],
   "source": []
  },
  {
   "cell_type": "code",
   "execution_count": null,
   "id": "fa9236b3",
   "metadata": {},
   "outputs": [],
   "source": []
  },
  {
   "cell_type": "code",
   "execution_count": null,
   "id": "48b43c60",
   "metadata": {},
   "outputs": [],
   "source": []
  },
  {
   "cell_type": "code",
   "execution_count": null,
   "id": "9a42ab62",
   "metadata": {},
   "outputs": [],
   "source": []
  },
  {
   "cell_type": "code",
   "execution_count": 50,
   "id": "ebfa1608",
   "metadata": {},
   "outputs": [
    {
     "name": "stdout",
     "output_type": "stream",
     "text": [
      "1/1 [==============================] - 1s 1s/step\n",
      "1/1 [==============================] - 0s 48ms/step\n",
      "Machine learning enthusiasit\n"
     ]
    }
   ],
   "source": [
    "print(generate_seq(model , tokenizer , 'Machine' , 2))"
   ]
  },
  {
   "cell_type": "code",
   "execution_count": 51,
   "id": "7aa43f6d",
   "metadata": {},
   "outputs": [
    {
     "name": "stdout",
     "output_type": "stream",
     "text": [
      "1/1 [==============================] - 0s 36ms/step\n",
      "1/1 [==============================] - 0s 34ms/step\n",
      "1/1 [==============================] - 0s 39ms/step\n",
      "1/1 [==============================] - 0s 48ms/step\n",
      "1/1 [==============================] - 0s 42ms/step\n",
      "1/1 [==============================] - 0s 41ms/step\n",
      "machine learning enthusiasit who always shows interests\n"
     ]
    }
   ],
   "source": [
    "print(generate_seq(model , tokenizer , 'machine' , 6))"
   ]
  },
  {
   "cell_type": "code",
   "execution_count": 52,
   "id": "794f96f2",
   "metadata": {},
   "outputs": [
    {
     "name": "stdout",
     "output_type": "stream",
     "text": [
      "1/1 [==============================] - 0s 34ms/step\n",
      "1/1 [==============================] - 0s 35ms/step\n",
      "1/1 [==============================] - 0s 43ms/step\n",
      "1/1 [==============================] - 0s 36ms/step\n",
      "1/1 [==============================] - 0s 42ms/step\n",
      "1/1 [==============================] - 0s 43ms/step\n",
      "full stack developer and students we are\n"
     ]
    }
   ],
   "source": [
    "print(generate_seq(model , tokenizer , 'full' , 6))"
   ]
  },
  {
   "cell_type": "code",
   "execution_count": 53,
   "id": "6d5ac814",
   "metadata": {},
   "outputs": [
    {
     "name": "stdout",
     "output_type": "stream",
     "text": [
      "1/1 [==============================] - 0s 39ms/step\n",
      "1/1 [==============================] - 0s 34ms/step\n",
      "1/1 [==============================] - 0s 35ms/step\n",
      "1/1 [==============================] - 0s 43ms/step\n",
      "1/1 [==============================] - 0s 43ms/step\n",
      "1/1 [==============================] - 0s 41ms/step\n",
      "enthusiasit who always shows interests on building\n"
     ]
    }
   ],
   "source": [
    "print(generate_seq(model , tokenizer , 'enthusiasit' , 6))"
   ]
  },
  {
   "cell_type": "code",
   "execution_count": 54,
   "id": "2810568d",
   "metadata": {},
   "outputs": [
    {
     "name": "stdout",
     "output_type": "stream",
     "text": [
      "1/1 [==============================] - 0s 34ms/step\n",
      "1/1 [==============================] - 0s 38ms/step\n",
      "1/1 [==============================] - 0s 35ms/step\n",
      "1/1 [==============================] - 0s 39ms/step\n",
      "1/1 [==============================] - 0s 46ms/step\n",
      "1/1 [==============================] - 0s 40ms/step\n",
      "shows interests on building realtime projects which\n"
     ]
    }
   ],
   "source": [
    "print(generate_seq(model , tokenizer , 'shows' , 6))"
   ]
  },
  {
   "cell_type": "code",
   "execution_count": 55,
   "id": "c6820084",
   "metadata": {},
   "outputs": [
    {
     "name": "stdout",
     "output_type": "stream",
     "text": [
      "1/1 [==============================] - 0s 39ms/step\n",
      "1/1 [==============================] - 0s 38ms/step\n",
      "1/1 [==============================] - 0s 45ms/step\n",
      "1/1 [==============================] - 0s 42ms/step\n",
      "1/1 [==============================] - 0s 56ms/step\n",
      "1/1 [==============================] - 0s 53ms/step\n",
      "building realtime projects which might be useful\n"
     ]
    }
   ],
   "source": [
    "print(generate_seq(model , tokenizer , 'building' , 6))"
   ]
  },
  {
   "cell_type": "code",
   "execution_count": 56,
   "id": "4fcfc523",
   "metadata": {},
   "outputs": [
    {
     "name": "stdout",
     "output_type": "stream",
     "text": [
      "1/1 [==============================] - 0s 37ms/step\n",
      "1/1 [==============================] - 0s 36ms/step\n",
      "1/1 [==============================] - 0s 35ms/step\n",
      "1/1 [==============================] - 0s 36ms/step\n",
      "1/1 [==============================] - 0s 40ms/step\n",
      "1/1 [==============================] - 0s 41ms/step\n",
      "realtime projects which might be useful for\n"
     ]
    }
   ],
   "source": [
    "print(generate_seq(model , tokenizer , 'realtime' , 6))"
   ]
  },
  {
   "cell_type": "code",
   "execution_count": 57,
   "id": "9a17ddbf",
   "metadata": {},
   "outputs": [
    {
     "name": "stdout",
     "output_type": "stream",
     "text": [
      "1/1 [==============================] - 0s 37ms/step\n",
      "1/1 [==============================] - 0s 40ms/step\n",
      "1/1 [==============================] - 0s 39ms/step\n",
      "1/1 [==============================] - 0s 34ms/step\n",
      "1/1 [==============================] - 0s 44ms/step\n",
      "1/1 [==============================] - 0s 48ms/step\n",
      "might be useful for the people piford\n"
     ]
    }
   ],
   "source": [
    "print(generate_seq(model , tokenizer , 'might' , 6))"
   ]
  },
  {
   "cell_type": "code",
   "execution_count": 58,
   "id": "1eff2a95",
   "metadata": {},
   "outputs": [
    {
     "name": "stdout",
     "output_type": "stream",
     "text": [
      "1/1 [==============================] - 0s 34ms/step\n",
      "1/1 [==============================] - 0s 35ms/step\n",
      "1/1 [==============================] - 0s 34ms/step\n",
      "1/1 [==============================] - 0s 42ms/step\n",
      "1/1 [==============================] - 0s 42ms/step\n",
      "1/1 [==============================] - 0s 39ms/step\n",
      "real world scenarios i always shows interests\n"
     ]
    }
   ],
   "source": [
    "print(generate_seq(model , tokenizer , 'real' , 6))"
   ]
  },
  {
   "cell_type": "code",
   "execution_count": 59,
   "id": "21c3c5ca",
   "metadata": {},
   "outputs": [
    {
     "name": "stdout",
     "output_type": "stream",
     "text": [
      "1/1 [==============================] - 0s 37ms/step\n",
      "1/1 [==============================] - 0s 35ms/step\n",
      "1/1 [==============================] - 0s 37ms/step\n",
      "1/1 [==============================] - 0s 43ms/step\n",
      "1/1 [==============================] - 0s 43ms/step\n",
      "1/1 [==============================] - 0s 41ms/step\n",
      "piford technologies is a full stack developer\n"
     ]
    }
   ],
   "source": [
    "print(generate_seq(model , tokenizer , 'piford' , 6))"
   ]
  },
  {
   "cell_type": "code",
   "execution_count": 60,
   "id": "9f3b17e2",
   "metadata": {},
   "outputs": [
    {
     "name": "stdout",
     "output_type": "stream",
     "text": [
      "1/1 [==============================] - 0s 37ms/step\n",
      "1/1 [==============================] - 0s 37ms/step\n",
      "1/1 [==============================] - 0s 35ms/step\n",
      "1/1 [==============================] - 0s 41ms/step\n",
      "1/1 [==============================] - 0s 41ms/step\n",
      "1/1 [==============================] - 0s 42ms/step\n",
      "service based company piford technologies is a\n"
     ]
    }
   ],
   "source": [
    "print(generate_seq(model , tokenizer , 'service' , 6))"
   ]
  },
  {
   "cell_type": "code",
   "execution_count": 61,
   "id": "624a5879",
   "metadata": {},
   "outputs": [
    {
     "name": "stdout",
     "output_type": "stream",
     "text": [
      "1/1 [==============================] - 0s 39ms/step\n",
      "1/1 [==============================] - 0s 38ms/step\n",
      "1/1 [==============================] - 0s 38ms/step\n",
      "1/1 [==============================] - 0s 38ms/step\n",
      "1/1 [==============================] - 0s 46ms/step\n",
      "1/1 [==============================] - 0s 51ms/step\n",
      "company piford technologies is a full stack\n"
     ]
    }
   ],
   "source": [
    "print(generate_seq(model , tokenizer , 'company' , 6))"
   ]
  },
  {
   "cell_type": "code",
   "execution_count": 62,
   "id": "c9d90cdb",
   "metadata": {},
   "outputs": [
    {
     "name": "stdout",
     "output_type": "stream",
     "text": [
      "1/1 [==============================] - 0s 36ms/step\n",
      "1/1 [==============================] - 0s 35ms/step\n",
      "1/1 [==============================] - 0s 34ms/step\n",
      "1/1 [==============================] - 0s 35ms/step\n",
      "1/1 [==============================] - 0s 36ms/step\n",
      "1/1 [==============================] - 0s 40ms/step\n",
      "we are product based company piford technologies\n"
     ]
    }
   ],
   "source": [
    "print(generate_seq(model , tokenizer , 'we' , 6))"
   ]
  },
  {
   "cell_type": "code",
   "execution_count": 63,
   "id": "7233a2b3",
   "metadata": {},
   "outputs": [
    {
     "name": "stdout",
     "output_type": "stream",
     "text": [
      "1/1 [==============================] - 0s 62ms/step\n",
      "1/1 [==============================] - 0s 44ms/step\n",
      "1/1 [==============================] - 0s 40ms/step\n",
      "1/1 [==============================] - 0s 40ms/step\n",
      "1/1 [==============================] - 0s 41ms/step\n",
      "1/1 [==============================] - 0s 42ms/step\n",
      "to working professionals and students we are\n"
     ]
    }
   ],
   "source": [
    "print(generate_seq(model , tokenizer , 'to' , 6))"
   ]
  },
  {
   "cell_type": "code",
   "execution_count": null,
   "id": "c71afdc9",
   "metadata": {},
   "outputs": [],
   "source": []
  }
 ],
 "metadata": {
  "kernelspec": {
   "display_name": "Python 3",
   "language": "python",
   "name": "python3"
  },
  "language_info": {
   "codemirror_mode": {
    "name": "ipython",
    "version": 3
   },
   "file_extension": ".py",
   "mimetype": "text/x-python",
   "name": "python",
   "nbconvert_exporter": "python",
   "pygments_lexer": "ipython3",
   "version": "3.8.8"
  }
 },
 "nbformat": 4,
 "nbformat_minor": 5
}
